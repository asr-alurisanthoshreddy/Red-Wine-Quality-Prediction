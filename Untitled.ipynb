{
 "cells": [
  {
   "cell_type": "code",
   "execution_count": 9,
   "id": "a8b89aa9",
   "metadata": {},
   "outputs": [
    {
     "name": "stdout",
     "output_type": "stream",
     "text": [
      "Original Dataset:\n",
      "   ID     Name   Age   Salary Department\n",
      "0   1    Alice  25.0    50000         HR\n",
      "1   2      Bob   NaN    52000         IT\n",
      "2   3  Charlie  35.0    58000         HR\n",
      "3   4    David  40.0  6000000         HR\n",
      "4   5      Eve  30.0    59000         IT\n",
      "\n",
      "Handling Missing Values:\n",
      "   ID     Name   Age   Salary Department\n",
      "0   1    Alice  25.0    50000         HR\n",
      "1   2      Bob  32.5    52000         IT\n",
      "2   3  Charlie  35.0    58000         HR\n",
      "3   4    David  40.0  6000000         HR\n",
      "4   5      Eve  30.0    59000         IT\n",
      "\n",
      "Noise Detection and Removal:\n",
      "   ID     Name   Age   Salary Department\n",
      "0   1    Alice  25.0  50000.0         HR\n",
      "1   2      Bob  32.5  52000.0         IT\n",
      "2   3  Charlie  35.0  58000.0         HR\n",
      "3   4    David  40.0  55000.0         HR\n",
      "4   5      Eve  30.0  59000.0         IT\n",
      "\n",
      "Identifying and Removing Redundancy:\n",
      "Duplicate rows detected: 0\n",
      "After removing redundancy:\n",
      "   ID     Name   Age   Salary Department\n",
      "0   1    Alice  25.0  50000.0         HR\n",
      "1   2      Bob  32.5  52000.0         IT\n",
      "2   3  Charlie  35.0  58000.0         HR\n",
      "3   4    David  40.0  55000.0         HR\n",
      "4   5      Eve  30.0  59000.0         IT\n",
      "\n",
      "Final Cleaned Dataset:\n",
      "   ID     Name   Age   Salary Department\n",
      "0   1    Alice  25.0  50000.0         HR\n",
      "1   2      Bob  32.5  52000.0         IT\n",
      "2   3  Charlie  35.0  58000.0         HR\n",
      "3   4    David  40.0  55000.0         HR\n",
      "4   5      Eve  30.0  59000.0         IT\n"
     ]
    }
   ],
   "source": [
    "import pandas as pd\n",
    "import numpy as np\n",
    "data = {\n",
    "'ID': [1, 2, 3, 4, 5],\n",
    "'Name': ['Alice', 'Bob', 'Charlie', 'David', 'Eve'],\n",
    "'Age': [25, np.nan, 35, 40, 30],\n",
    "'Salary': [50000, 52000, 58000, 6000000, 59000],\n",
    "'Department': ['HR', 'IT', 'HR', 'HR', 'IT']\n",
    "}\n",
    "df = pd.DataFrame(data)\n",
    "print(\"Original Dataset:\")\n",
    "print(df)\n",
    "# Handling missing values\n",
    "print(\"\\nHandling Missing Values:\")\n",
    "df['Age'] = df['Age'].fillna(df['Age'].mean())\n",
    "print(df)\n",
    "# Noise detection removal\n",
    "print(\"\\nNoise Detection and Removal:\")\n",
    "q1 = df['Salary'].quantile(0.25)\n",
    "q3 = df['Salary'].quantile(0.75)\n",
    "iqr = q3 - q1\n",
    "lower_bound = q1 - 1.5 * iqr\n",
    "upper_bound = q3 + 1.5 * iqr\n",
    "df['Salary'] = np.where((df['Salary'] < lower_bound) | (df['Salary'] >upper_bound), np.nan, df['Salary'])\n",
    "df['Salary'] = df['Salary'].fillna(df['Salary'].median())\n",
    "print(df)\n",
    "\n",
    "# Identifying data redundancy and elimination\n",
    "print(\"\\nIdentifying and Removing Redundancy:\")\n",
    "duplicates = df.duplicated()\n",
    "print(f\"Duplicate rows detected: {duplicates.sum()}\")\n",
    "df = df.drop_duplicates()\n",
    "print(\"After removing redundancy:\")\n",
    "print(df)\n",
    "print(\"\\nFinal Cleaned Dataset:\")\n",
    "print(df)\n"
   ]
  },
  {
   "cell_type": "code",
   "execution_count": 10,
   "id": "5dccdb1d",
   "metadata": {},
   "outputs": [
    {
     "ename": "ModuleNotFoundError",
     "evalue": "No module named 'sklearn'",
     "output_type": "error",
     "traceback": [
      "\u001b[0;31m---------------------------------------------------------------------------\u001b[0m",
      "\u001b[0;31mModuleNotFoundError\u001b[0m                       Traceback (most recent call last)",
      "Cell \u001b[0;32mIn[10], line 3\u001b[0m\n\u001b[1;32m      1\u001b[0m \u001b[38;5;28;01mimport\u001b[39;00m \u001b[38;5;21;01mpandas\u001b[39;00m \u001b[38;5;28;01mas\u001b[39;00m \u001b[38;5;21;01mpd\u001b[39;00m\n\u001b[1;32m      2\u001b[0m \u001b[38;5;28;01mimport\u001b[39;00m \u001b[38;5;21;01mnumpy\u001b[39;00m \u001b[38;5;28;01mas\u001b[39;00m \u001b[38;5;21;01mnp\u001b[39;00m\n\u001b[0;32m----> 3\u001b[0m \u001b[38;5;28;01mfrom\u001b[39;00m \u001b[38;5;21;01msklearn\u001b[39;00m\u001b[38;5;21;01m.\u001b[39;00m\u001b[38;5;21;01mimpute\u001b[39;00m \u001b[38;5;28;01mimport\u001b[39;00m KNNImputer\n\u001b[1;32m      4\u001b[0m data \u001b[38;5;241m=\u001b[39m {\n\u001b[1;32m      5\u001b[0m \u001b[38;5;124m'\u001b[39m\u001b[38;5;124mID\u001b[39m\u001b[38;5;124m'\u001b[39m: [\u001b[38;5;241m1\u001b[39m, \u001b[38;5;241m2\u001b[39m, \u001b[38;5;241m3\u001b[39m, \u001b[38;5;241m4\u001b[39m, \u001b[38;5;241m5\u001b[39m],\n\u001b[1;32m      6\u001b[0m \u001b[38;5;124m'\u001b[39m\u001b[38;5;124mAge\u001b[39m\u001b[38;5;124m'\u001b[39m: [\u001b[38;5;241m25\u001b[39m, np\u001b[38;5;241m.\u001b[39mnan, \u001b[38;5;241m35\u001b[39m, \u001b[38;5;241m40\u001b[39m, \u001b[38;5;241m30\u001b[39m],\n\u001b[1;32m      7\u001b[0m \u001b[38;5;124m'\u001b[39m\u001b[38;5;124mSalary\u001b[39m\u001b[38;5;124m'\u001b[39m: [\u001b[38;5;241m50000\u001b[39m, \u001b[38;5;241m2000\u001b[39m, \u001b[38;5;241m58000\u001b[39m, \u001b[38;5;241m60000\u001b[39m, np\u001b[38;5;241m.\u001b[39mnan],\n\u001b[1;32m      8\u001b[0m \u001b[38;5;124m'\u001b[39m\u001b[38;5;124mDepartment\u001b[39m\u001b[38;5;124m'\u001b[39m: [\u001b[38;5;124m'\u001b[39m\u001b[38;5;124mHR\u001b[39m\u001b[38;5;124m'\u001b[39m, \u001b[38;5;124m'\u001b[39m\u001b[38;5;124mIT\u001b[39m\u001b[38;5;124m'\u001b[39m, \u001b[38;5;124m'\u001b[39m\u001b[38;5;124mHR\u001b[39m\u001b[38;5;124m'\u001b[39m, \u001b[38;5;124m'\u001b[39m\u001b[38;5;124mHR\u001b[39m\u001b[38;5;124m'\u001b[39m, \u001b[38;5;124m'\u001b[39m\u001b[38;5;124mIT\u001b[39m\u001b[38;5;124m'\u001b[39m]\n\u001b[1;32m      9\u001b[0m }\n\u001b[1;32m     10\u001b[0m df \u001b[38;5;241m=\u001b[39m pd\u001b[38;5;241m.\u001b[39mDataFrame(data)\n",
      "\u001b[0;31mModuleNotFoundError\u001b[0m: No module named 'sklearn'"
     ]
    }
   ],
   "source": [
    "import pandas as pd\n",
    "import numpy as np\n",
    "from sklearn.impute import KNNImputer\n",
    "data = {\n",
    "'ID': [1, 2, 3, 4, 5],\n",
    "'Age': [25, np.nan, 35, 40, 30],\n",
    "'Salary': [50000, 2000, 58000, 60000, np.nan],\n",
    "'Department': ['HR', 'IT', 'HR', 'HR', 'IT']\n",
    "}\n",
    "df = pd.DataFrame(data)\n",
    "print(\"\\nMissing values in the dataset:\")\n",
    "print(df.isnull().sum())\n",
    "numerical_cols = df.select_dtypes(include=[np.number]).columns.tolist()\n",
    "categorical_cols = df.select_dtypes(exclude=[np.number]).columns.tolist()\n",
    "df_imputed = df.copy()\n",
    "imputer = KNNImputer(n_neighbors=2)\n",
    "df_imputed[numerical_cols] = imputer.fit_transform(df_imputed[numerical_cols])\n",
    "print(\"\\nDataset after imputation:\")\n",
    "print(df_imputed)"
   ]
  },
  {
   "cell_type": "code",
   "execution_count": 11,
   "id": "71bb10de",
   "metadata": {},
   "outputs": [
    {
     "name": "stdout",
     "output_type": "stream",
     "text": [
      "\u001b[1;31merror\u001b[0m: \u001b[1mexternally-managed-environment\u001b[0m\r\n",
      "\r\n",
      "\u001b[31m×\u001b[0m This environment is externally managed\r\n",
      "\u001b[31m╰─>\u001b[0m To install Python packages system-wide, try apt install\r\n",
      "\u001b[31m   \u001b[0m python3-xyz, where xyz is the package you are trying to\r\n",
      "\u001b[31m   \u001b[0m install.\r\n",
      "\u001b[31m   \u001b[0m \r\n",
      "\u001b[31m   \u001b[0m If you wish to install a non-Kali-packaged Python package,\r\n",
      "\u001b[31m   \u001b[0m create a virtual environment using python3 -m venv path/to/venv.\r\n",
      "\u001b[31m   \u001b[0m Then use path/to/venv/bin/python and path/to/venv/bin/pip. Make\r\n",
      "\u001b[31m   \u001b[0m sure you have pypy3-venv installed.\r\n",
      "\u001b[31m   \u001b[0m \r\n",
      "\u001b[31m   \u001b[0m If you wish to install a non-Kali-packaged Python application,\r\n",
      "\u001b[31m   \u001b[0m it may be easiest to use pipx install xyz, which will manage a\r\n",
      "\u001b[31m   \u001b[0m virtual environment for you. Make sure you have pipx installed.\r\n",
      "\u001b[31m   \u001b[0m \r\n",
      "\u001b[31m   \u001b[0m For more information, refer to the following:\r\n",
      "\u001b[31m   \u001b[0m * https://www.kali.org/docs/general-use/python3-external-packages/\r\n",
      "\u001b[31m   \u001b[0m * /usr/share/doc/python3.13/README.venv\r\n",
      "\r\n",
      "\u001b[1;35mnote\u001b[0m: If you believe this is a mistake, please contact your Python installation or OS distribution provider. You can override this, at the risk of breaking your Python installation or OS, by passing --break-system-packages.\r\n",
      "\u001b[1;36mhint\u001b[0m: See PEP 668 for the detailed specification.\r\n"
     ]
    }
   ],
   "source": [
    "!pip install scikit-learn"
   ]
  },
  {
   "cell_type": "code",
   "execution_count": 8,
   "id": "0aa7a074",
   "metadata": {},
   "outputs": [
    {
     "ename": "SyntaxError",
     "evalue": "invalid syntax (1817420179.py, line 1)",
     "output_type": "error",
     "traceback": [
      "\u001b[0;36m  Cell \u001b[0;32mIn[8], line 1\u001b[0;36m\u001b[0m\n\u001b[0;31m    python3 -m venv myenv\u001b[0m\n\u001b[0m               ^\u001b[0m\n\u001b[0;31mSyntaxError\u001b[0m\u001b[0;31m:\u001b[0m invalid syntax\n"
     ]
    }
   ],
   "source": []
  },
  {
   "cell_type": "code",
   "execution_count": null,
   "id": "866765ae",
   "metadata": {},
   "outputs": [],
   "source": []
  }
 ],
 "metadata": {
  "kernelspec": {
   "display_name": "Python 3 (ipykernel)",
   "language": "python",
   "name": "python3"
  },
  "language_info": {
   "codemirror_mode": {
    "name": "ipython",
    "version": 3
   },
   "file_extension": ".py",
   "mimetype": "text/x-python",
   "name": "python",
   "nbconvert_exporter": "python",
   "pygments_lexer": "ipython3",
   "version": "3.13.2"
  }
 },
 "nbformat": 4,
 "nbformat_minor": 5
}
